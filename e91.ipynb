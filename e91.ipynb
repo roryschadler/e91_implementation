{
 "cells": [
  {
   "cell_type": "markdown",
   "metadata": {},
   "source": [
    "# E91 Implementation"
   ]
  },
  {
   "cell_type": "markdown",
   "metadata": {},
   "source": [
    "1. create bell pairs\n",
    "2. choose measurement for alice, bob\n",
    "    * rotate $|0\\rangle$, $|1\\rangle$ by $a \\in \\{0,\\frac{\\pi}{4},\\frac{\\pi}{2}\\}$ or $b \\in \\{\\frac{\\pi}{4},\\frac{\\pi}{2},\\frac{3\\pi}{4}\\}$"
   ]
  },
  {
   "cell_type": "markdown",
   "metadata": {},
   "source": [
    "Source: [https://journals.aps.org/prl/pdf/10.1103/PhysRevLett.67.661](https://journals.aps.org/prl/pdf/10.1103/PhysRevLett.67.661)"
   ]
  },
  {
   "cell_type": "code",
   "execution_count": 1,
   "metadata": {},
   "outputs": [
    {
     "name": "stdout",
     "output_type": "stream",
     "text": [
      "Imports Successful\n"
     ]
    }
   ],
   "source": [
    "from qiskit import QuantumCircuit, Aer, assemble\n",
    "from qiskit.visualization import plot_histogram\n",
    "from numpy.random import randint#, choice\n",
    "import numpy as np\n",
    "print(\"Imports Successful\")"
   ]
  },
  {
   "cell_type": "code",
   "execution_count": 2,
   "metadata": {},
   "outputs": [],
   "source": [
    "msg_len = 10"
   ]
  },
  {
   "cell_type": "code",
   "execution_count": 3,
   "metadata": {},
   "outputs": [],
   "source": [
    "def alice_measure(qc):\n",
    "    chosen_bases = []\n",
    "    for i in range(msg_len):\n",
    "        alice_q = 2*i\n",
    "        base = randint(3)\n",
    "        chosen_bases.append(base+1)\n",
    "        rot = np.pi * base / 4\n",
    "        qc.u1(-rot,alice_q)\n",
    "        qc.measure(alice_q,alice_q)\n",
    "    return chosen_bases\n",
    "\n",
    "def bob_measure(qc):\n",
    "    chosen_bases = []\n",
    "    for i in range(msg_len):\n",
    "        bob_q = 2*i + 1\n",
    "        base = randint(1,4)\n",
    "        chosen_bases.append(base)\n",
    "        rot = np.pi * base / 4\n",
    "        qc.u1(-rot,bob_q)\n",
    "        qc.measure(bob_q,bob_q)\n",
    "    return chosen_bases"
   ]
  },
  {
   "cell_type": "code",
   "execution_count": 4,
   "metadata": {},
   "outputs": [
    {
     "data": {
      "text/html": [
       "<pre style=\"word-wrap: normal;white-space: pre;background: #fff0;line-height: 1.1;font-family: &quot;Courier New&quot;,Courier,monospace\">      ┌───┐      ░ \n",
       " q_0: ┤ H ├──■───░─\n",
       "      ├───┤┌─┴─┐ ░ \n",
       " q_1: ┤ X ├┤ X ├─░─\n",
       "      ├───┤└───┘ ░ \n",
       " q_2: ┤ H ├──■───░─\n",
       "      ├───┤┌─┴─┐ ░ \n",
       " q_3: ┤ X ├┤ X ├─░─\n",
       "      ├───┤└───┘ ░ \n",
       " q_4: ┤ H ├──■───░─\n",
       "      ├───┤┌─┴─┐ ░ \n",
       " q_5: ┤ X ├┤ X ├─░─\n",
       "      ├───┤└───┘ ░ \n",
       " q_6: ┤ H ├──■───░─\n",
       "      ├───┤┌─┴─┐ ░ \n",
       " q_7: ┤ X ├┤ X ├─░─\n",
       "      ├───┤└───┘ ░ \n",
       " q_8: ┤ H ├──■───░─\n",
       "      ├───┤┌─┴─┐ ░ \n",
       " q_9: ┤ X ├┤ X ├─░─\n",
       "      ├───┤└───┘ ░ \n",
       "q_10: ┤ H ├──■───░─\n",
       "      ├───┤┌─┴─┐ ░ \n",
       "q_11: ┤ X ├┤ X ├─░─\n",
       "      ├───┤└───┘ ░ \n",
       "q_12: ┤ H ├──■───░─\n",
       "      ├───┤┌─┴─┐ ░ \n",
       "q_13: ┤ X ├┤ X ├─░─\n",
       "      ├───┤└───┘ ░ \n",
       "q_14: ┤ H ├──■───░─\n",
       "      ├───┤┌─┴─┐ ░ \n",
       "q_15: ┤ X ├┤ X ├─░─\n",
       "      ├───┤└───┘ ░ \n",
       "q_16: ┤ H ├──■───░─\n",
       "      ├───┤┌─┴─┐ ░ \n",
       "q_17: ┤ X ├┤ X ├─░─\n",
       "      ├───┤└───┘ ░ \n",
       "q_18: ┤ H ├──■───░─\n",
       "      ├───┤┌─┴─┐ ░ \n",
       "q_19: ┤ X ├┤ X ├─░─\n",
       "      └───┘└───┘ ░ \n",
       " c_0: ═════════════\n",
       "                   \n",
       " c_1: ═════════════\n",
       "                   \n",
       " c_2: ═════════════\n",
       "                   \n",
       " c_3: ═════════════\n",
       "                   \n",
       " c_4: ═════════════\n",
       "                   \n",
       " c_5: ═════════════\n",
       "                   \n",
       " c_6: ═════════════\n",
       "                   \n",
       " c_7: ═════════════\n",
       "                   \n",
       " c_8: ═════════════\n",
       "                   \n",
       " c_9: ═════════════\n",
       "                   \n",
       "c_10: ═════════════\n",
       "                   \n",
       "c_11: ═════════════\n",
       "                   \n",
       "c_12: ═════════════\n",
       "                   \n",
       "c_13: ═════════════\n",
       "                   \n",
       "c_14: ═════════════\n",
       "                   \n",
       "c_15: ═════════════\n",
       "                   \n",
       "c_16: ═════════════\n",
       "                   \n",
       "c_17: ═════════════\n",
       "                   \n",
       "c_18: ═════════════\n",
       "                   \n",
       "c_19: ═════════════\n",
       "                   </pre>"
      ],
      "text/plain": [
       "      ┌───┐      ░ \n",
       " q_0: ┤ H ├──■───░─\n",
       "      ├───┤┌─┴─┐ ░ \n",
       " q_1: ┤ X ├┤ X ├─░─\n",
       "      ├───┤└───┘ ░ \n",
       " q_2: ┤ H ├──■───░─\n",
       "      ├───┤┌─┴─┐ ░ \n",
       " q_3: ┤ X ├┤ X ├─░─\n",
       "      ├───┤└───┘ ░ \n",
       " q_4: ┤ H ├──■───░─\n",
       "      ├───┤┌─┴─┐ ░ \n",
       " q_5: ┤ X ├┤ X ├─░─\n",
       "      ├───┤└───┘ ░ \n",
       " q_6: ┤ H ├──■───░─\n",
       "      ├───┤┌─┴─┐ ░ \n",
       " q_7: ┤ X ├┤ X ├─░─\n",
       "      ├───┤└───┘ ░ \n",
       " q_8: ┤ H ├──■───░─\n",
       "      ├───┤┌─┴─┐ ░ \n",
       " q_9: ┤ X ├┤ X ├─░─\n",
       "      ├───┤└───┘ ░ \n",
       "q_10: ┤ H ├──■───░─\n",
       "      ├───┤┌─┴─┐ ░ \n",
       "q_11: ┤ X ├┤ X ├─░─\n",
       "      ├───┤└───┘ ░ \n",
       "q_12: ┤ H ├──■───░─\n",
       "      ├───┤┌─┴─┐ ░ \n",
       "q_13: ┤ X ├┤ X ├─░─\n",
       "      ├───┤└───┘ ░ \n",
       "q_14: ┤ H ├──■───░─\n",
       "      ├───┤┌─┴─┐ ░ \n",
       "q_15: ┤ X ├┤ X ├─░─\n",
       "      ├───┤└───┘ ░ \n",
       "q_16: ┤ H ├──■───░─\n",
       "      ├───┤┌─┴─┐ ░ \n",
       "q_17: ┤ X ├┤ X ├─░─\n",
       "      ├───┤└───┘ ░ \n",
       "q_18: ┤ H ├──■───░─\n",
       "      ├───┤┌─┴─┐ ░ \n",
       "q_19: ┤ X ├┤ X ├─░─\n",
       "      └───┘└───┘ ░ \n",
       " c_0: ═════════════\n",
       "                   \n",
       " c_1: ═════════════\n",
       "                   \n",
       " c_2: ═════════════\n",
       "                   \n",
       " c_3: ═════════════\n",
       "                   \n",
       " c_4: ═════════════\n",
       "                   \n",
       " c_5: ═════════════\n",
       "                   \n",
       " c_6: ═════════════\n",
       "                   \n",
       " c_7: ═════════════\n",
       "                   \n",
       " c_8: ═════════════\n",
       "                   \n",
       " c_9: ═════════════\n",
       "                   \n",
       "c_10: ═════════════\n",
       "                   \n",
       "c_11: ═════════════\n",
       "                   \n",
       "c_12: ═════════════\n",
       "                   \n",
       "c_13: ═════════════\n",
       "                   \n",
       "c_14: ═════════════\n",
       "                   \n",
       "c_15: ═════════════\n",
       "                   \n",
       "c_16: ═════════════\n",
       "                   \n",
       "c_17: ═════════════\n",
       "                   \n",
       "c_18: ═════════════\n",
       "                   \n",
       "c_19: ═════════════\n",
       "                   "
      ]
     },
     "execution_count": 4,
     "metadata": {},
     "output_type": "execute_result"
    }
   ],
   "source": [
    "# Prepare Bell States\n",
    "qc = QuantumCircuit(2*msg_len, 2*msg_len)\n",
    "for i in range(msg_len):\n",
    "    q1 = 2*i\n",
    "    q2 = 2*i + 1\n",
    "    qc.x(q2)\n",
    "    qc.h(q1)\n",
    "    qc.cx(q1,q2)\n",
    "qc.barrier()\n",
    "qc.draw()"
   ]
  },
  {
   "cell_type": "code",
   "execution_count": 5,
   "metadata": {},
   "outputs": [],
   "source": [
    "# add measurements with random bases\n",
    "a_bases = alice_measure(qc)\n",
    "b_bases = bob_measure(qc)\n",
    "#qc.draw()"
   ]
  },
  {
   "cell_type": "code",
   "execution_count": 6,
   "metadata": {},
   "outputs": [],
   "source": [
    "qasm_sim = Aer.get_backend('qasm_simulator')\n",
    "qobj = assemble(qc, shots=1, memory=True)\n",
    "result = qasm_sim.run(qobj).result()\n",
    "# get_counts returns a dict, with the classical register as the *key* \n",
    "# which feels silly. this ugly idiom retrieves that key. surely a \n",
    "# better way to do this\n",
    "measurements = [k for k in result.get_counts()][0]"
   ]
  },
  {
   "cell_type": "code",
   "execution_count": 7,
   "metadata": {},
   "outputs": [
    {
     "name": "stdout",
     "output_type": "stream",
     "text": [
      "match! Alice measured 1 and Bob measured 0\n",
      "match! Alice measured 1 and Bob measured 0\n"
     ]
    }
   ],
   "source": [
    "for idx, (a_b, b_b) in enumerate(zip(a_bases, b_bases)):\n",
    "    if((a_b == 2 and b_b == 1) or (a_b == 3 and b_b == 2)):\n",
    "        a_m = measurements[2*idx]\n",
    "        b_m = measurements[2*idx + 1]\n",
    "        print(\"match! Alice measured {} and Bob measured {}\".format(a_m, b_m))"
   ]
  },
  {
   "cell_type": "code",
   "execution_count": null,
   "metadata": {},
   "outputs": [],
   "source": []
  }
 ],
 "metadata": {
  "kernelspec": {
   "display_name": "Python 3",
   "language": "python",
   "name": "python3"
  },
  "language_info": {
   "codemirror_mode": {
    "name": "ipython",
    "version": 3
   },
   "file_extension": ".py",
   "mimetype": "text/x-python",
   "name": "python",
   "nbconvert_exporter": "python",
   "pygments_lexer": "ipython3",
   "version": "3.7.6"
  }
 },
 "nbformat": 4,
 "nbformat_minor": 4
}
