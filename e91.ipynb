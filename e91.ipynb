{
 "cells": [
  {
   "cell_type": "markdown",
   "metadata": {},
   "source": [
    "# E91 Implementation"
   ]
  },
  {
   "cell_type": "markdown",
   "metadata": {},
   "source": [
    "1. create bell pairs\n",
    "2. choose measurement for alice, bob\n",
    "    * rotate $|0\\rangle$, $|1\\rangle$ by $a \\in \\{0,\\frac{\\pi}{4},\\frac{\\pi}{2}\\}$ or $b \\in \\{\\frac{\\pi}{4},\\frac{\\pi}{2},\\frac{3\\pi}{4}\\}$"
   ]
  },
  {
   "cell_type": "markdown",
   "metadata": {},
   "source": [
    "Source: [https://journals.aps.org/prl/pdf/10.1103/PhysRevLett.67.661](https://journals.aps.org/prl/pdf/10.1103/PhysRevLett.67.661)"
   ]
  },
  {
   "cell_type": "code",
   "execution_count": 40,
   "metadata": {},
   "outputs": [
    {
     "name": "stdout",
     "output_type": "stream",
     "text": [
      "Imports Successful\n"
     ]
    }
   ],
   "source": [
    "from qiskit import QuantumCircuit, Aer, assemble\n",
    "#from qiskit.visualization import plot_histogram, plot_bloch_multivector\n",
    "from numpy.random import randint#, choice\n",
    "import numpy as np\n",
    "print(\"Imports Successful\")"
   ]
  },
  {
   "cell_type": "code",
   "execution_count": 41,
   "metadata": {},
   "outputs": [],
   "source": [
    "msg_len = 1"
   ]
  },
  {
   "cell_type": "code",
   "execution_count": 42,
   "metadata": {},
   "outputs": [
    {
     "data": {
      "text/html": [
       "<pre style=\"word-wrap: normal;white-space: pre;background: #fff0;line-height: 1.1;font-family: &quot;Courier New&quot;,Courier,monospace\">     ┌───┐      ░ \n",
       "q_0: ┤ H ├──■───░─\n",
       "     ├───┤┌─┴─┐ ░ \n",
       "q_1: ┤ X ├┤ X ├─░─\n",
       "     └───┘└───┘ ░ \n",
       "c_0: ═════════════\n",
       "                  \n",
       "c_1: ═════════════\n",
       "                  </pre>"
      ],
      "text/plain": [
       "     ┌───┐      ░ \n",
       "q_0: ┤ H ├──■───░─\n",
       "     ├───┤┌─┴─┐ ░ \n",
       "q_1: ┤ X ├┤ X ├─░─\n",
       "     └───┘└───┘ ░ \n",
       "c_0: ═════════════\n",
       "                  \n",
       "c_1: ═════════════\n",
       "                  "
      ]
     },
     "execution_count": 42,
     "metadata": {},
     "output_type": "execute_result"
    }
   ],
   "source": [
    "# Prepare Bell State\n",
    "qc = QuantumCircuit(2*msg_len, 2*msg_len)\n",
    "for i in range(msg_len):\n",
    "    q1 = 2*i\n",
    "    q2 = 2*i + 1\n",
    "    qc.x(q2)\n",
    "    qc.h(q1)\n",
    "    qc.cx(q1,q2)\n",
    "qc.barrier()\n",
    "qc.draw()"
   ]
  },
  {
   "cell_type": "code",
   "execution_count": 43,
   "metadata": {},
   "outputs": [],
   "source": [
    "def alice_measure(qc):\n",
    "    chosen_bases = []\n",
    "    for i in range(msg_len):\n",
    "        alice_q = 2*i\n",
    "        base = randint(3)\n",
    "        chosen_bases.append(base)\n",
    "        rot = np.pi * base / 4\n",
    "        qc.u1(-rot,alice_q)\n",
    "        qc.measure(alice_q,alice_q)\n",
    "    return chosen_bases\n",
    "\n",
    "def bob_measure(qc):\n",
    "    chosen_bases = []\n",
    "    for i in range(msg_len):\n",
    "        bob_q = 2*i + 1\n",
    "        base = randint(1,4)\n",
    "        chosen_bases.append(base)\n",
    "        rot = np.pi * base / 4\n",
    "        qc.u1(-rot,bob_q)\n",
    "        qc.measure(bob_q,bob_q)\n",
    "    return chosen_bases"
   ]
  },
  {
   "cell_type": "code",
   "execution_count": 44,
   "metadata": {},
   "outputs": [],
   "source": [
    "a_bases = alice_measure(qc)\n",
    "b_bases = bob_measure(qc)"
   ]
  },
  {
   "cell_type": "code",
   "execution_count": 45,
   "metadata": {},
   "outputs": [],
   "source": [
    "qasm_sim = Aer.get_backend('qasm_simulator')\n",
    "qobj = assemble(qc, shots=1, memory=True)\n",
    "result = qasm_sim.run(qobj).result()"
   ]
  },
  {
   "cell_type": "code",
   "execution_count": 46,
   "metadata": {},
   "outputs": [
    {
     "data": {
      "text/plain": [
       "namespace(backend_name='qasm_simulator',\n",
       "          backend_version='0.5.2',\n",
       "          qobj_id='bd96cdcc-c9fd-48ae-b488-a2de29caf6cf',\n",
       "          job_id='0fa5f3df-e432-424b-9790-c407b16c49a0',\n",
       "          success=True,\n",
       "          results=[namespace(shots=1,\n",
       "                             success=True,\n",
       "                             data=namespace(memory=['0x2'],\n",
       "                                            counts=namespace(0x2=1)),\n",
       "                             meas_level=<MeasLevel.CLASSIFIED: 2>,\n",
       "                             status='DONE',\n",
       "                             header=namespace(clbit_labels=[['c', 0],\n",
       "                                                            ['c', 1]],\n",
       "                                              qreg_sizes=[['q', 2]],\n",
       "                                              n_qubits=2,\n",
       "                                              memory_slots=2,\n",
       "                                              name='circuit14',\n",
       "                                              creg_sizes=[['c', 2]],\n",
       "                                              qubit_labels=[['q', 0],\n",
       "                                                            ['q', 1]]),\n",
       "                             time_taken=0.000220339,\n",
       "                             metadata={'measure_sampling': False,\n",
       "                                       'method': 'statevector',\n",
       "                                       'parallel_shots': 1,\n",
       "                                       'parallel_state_update': 8},\n",
       "                             seed_simulator=3637935946)],\n",
       "          status='COMPLETED',\n",
       "          date=datetime.datetime(2021, 5, 3, 21, 49, 41, 266563),\n",
       "          time_taken=0.0011134147644042969,\n",
       "          metadata={'max_memory_mb': 7787,\n",
       "                    'omp_enabled': True,\n",
       "                    'parallel_experiments': 1,\n",
       "                    'time_taken': 0.00030749900000000003})"
      ]
     },
     "execution_count": 46,
     "metadata": {},
     "output_type": "execute_result"
    }
   ],
   "source": [
    "result"
   ]
  },
  {
   "cell_type": "code",
   "execution_count": null,
   "metadata": {},
   "outputs": [],
   "source": []
  }
 ],
 "metadata": {
  "kernelspec": {
   "display_name": "Python 3",
   "language": "python",
   "name": "python3"
  },
  "language_info": {
   "codemirror_mode": {
    "name": "ipython",
    "version": 3
   },
   "file_extension": ".py",
   "mimetype": "text/x-python",
   "name": "python",
   "nbconvert_exporter": "python",
   "pygments_lexer": "ipython3",
   "version": "3.7.6"
  }
 },
 "nbformat": 4,
 "nbformat_minor": 4
}
