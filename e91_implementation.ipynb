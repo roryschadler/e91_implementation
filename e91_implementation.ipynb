{
 "cells": [
  {
   "cell_type": "markdown",
   "metadata": {},
   "source": [
    "# E91 Implementation\n",
    "\n",
    "Rory Schadler, Blake Danziger  \n",
    "Physics 75  \n",
    "Lab 2"
   ]
  },
  {
   "cell_type": "markdown",
   "metadata": {},
   "source": [
    "## Protocol Steps\n",
    "1. Alice and Bob share $n$ EPR pairs.\n",
    "1. Alice picks a random measurement basis $a_i$ from $a = \\{0, \\frac{\\pi}{8}, \\frac{\\pi}{4}\\}$ and Bob picks a random measurement basis $b_j$ from $b = \\{-\\frac{\\pi}{8}, 0, \\frac{\\pi}{8}\\}$ where $a_i$ and $b_j$ represent the angle of rotation $\\theta$ between the measurement basis and the $Z$(computational) basis (not to be confused with the angle on the Bloch Sphere. The angle between the $z$-axis and the axis of the measurement basis on the Bloch Sphere is $2\\theta$). Alice and Bob measure each of their respective qubits of the EPR pairs in a randomly chosen measurement basis from their set of bases.\n",
    "1. Alice and Bob anounce the measurement bases they used for each shared pair. Bits for which their bases were the same are saved into respective bit strings $m_a$ and $m_b$.\n",
    "1. The measurement bits in $m_a$ and $m_b$ should be anticorrelated between Alice and Bob, so Bob flips the bits in $m_b$ to get the same bit string as $m_a$. This string of bits is the shared key.\n",
    "1. For the bits where they used different measurement bases, Alice and Bob announce the results of their measurements. These bits can be used to check for the presence of Eve by calculating the correlation coefficient $S := E(\\textbf{a}_1, \\textbf{b}_1) - E(\\textbf{a}_1, \\textbf{b}_3) + E(\\textbf{a}_3, \\textbf{b}_1)+ E(\\textbf{a}_3, \\textbf{b}_3)$ where $E(\\textbf{a}_i, \\textbf{b}_j)$ is defined by $E(\\textbf{a}_i, \\textbf{b}_j) := \\frac{N_{00}+N_{11}-N_{01}-N_{10}}{N_{00}+N_{11}+N_{01}+N_{10}} $. This value should be approximately $-2\\sqrt{2}$.\n",
    "\n",
    "## Implementation Steps\n",
    "1. Create $n$ Bell pairs in the $\\frac{1}{\\sqrt{2}}(|01\\rangle - |10\\rangle)$ state.\n",
    "1. Choose measurement bases for Alice and Bob randomly from each of their sets of bases $a = \\{0, \\frac{\\pi}{8}, \\frac{\\pi}{4}\\}$ and $b = \\{-\\frac{\\pi}{8}, 0, \\frac{\\pi}{8}\\}$.\n",
    "1. Measure each qubit in the pair\n",
    "    * For a basis with angle $\\theta$, rotate about the $y$-axis using a $U3$ gate with polar rotation angle $\\theta$. ($\\phi = \\lambda = 0$ in order to simulate a $RY$ gate)\n",
    "1. Find the pairs where Alice and Bob used the same measurement basis and save these bits after flipping Bob's bits.\n",
    "1. Compare measurements of bits where Alice's and Bob's measurements did not match"
   ]
  },
  {
   "cell_type": "markdown",
   "metadata": {},
   "source": [
    "Source: [https://journals.aps.org/prl/pdf/10.1103/PhysRevLett.67.661](https://journals.aps.org/prl/pdf/10.1103/PhysRevLett.67.661)"
   ]
  },
  {
   "cell_type": "markdown",
   "metadata": {},
   "source": [
    "### Import Libraries"
   ]
  },
  {
   "cell_type": "code",
   "execution_count": 232,
   "metadata": {},
   "outputs": [
    {
     "name": "stdout",
     "output_type": "stream",
     "text": [
      "Imports Successful\n"
     ]
    }
   ],
   "source": [
    "import qiskit\n",
    "from qiskit import QuantumCircuit, Aer, assemble\n",
    "from qiskit.visualization import plot_histogram\n",
    "from numpy.random import randint#, choice\n",
    "import numpy as np\n",
    "print(\"Imports Successful\")"
   ]
  },
  {
   "cell_type": "markdown",
   "metadata": {},
   "source": [
    "### Set Message Length"
   ]
  },
  {
   "cell_type": "code",
   "execution_count": 233,
   "metadata": {},
   "outputs": [],
   "source": [
    "msg_len = 10"
   ]
  },
  {
   "cell_type": "markdown",
   "metadata": {},
   "source": [
    "### Define measurement bases"
   ]
  },
  {
   "cell_type": "code",
   "execution_count": 234,
   "metadata": {},
   "outputs": [],
   "source": [
    "a_b = [0, np.pi/8, np.pi/4]\n",
    "b_b = [np.pi/8, np.pi/4, 3*np.pi/8]"
   ]
  },
  {
   "cell_type": "markdown",
   "metadata": {},
   "source": [
    "### Prepare Entangled EPR States"
   ]
  },
  {
   "cell_type": "code",
   "execution_count": 235,
   "metadata": {},
   "outputs": [],
   "source": [
    "# prepare entangled states as separate 2-qubit quantum circuits\n",
    "\n",
    "def prepare_EPR(msg_len):\n",
    "    # initialize output\n",
    "    pairs = []\n",
    "    \n",
    "    # set up (1/sqrt(2))*(|01> - |10>) states\n",
    "    for i in range(msg_len):\n",
    "        qc = QuantumCircuit(2,2)\n",
    "        qc.x(0)\n",
    "        qc.x(1)\n",
    "        qc.h(0)\n",
    "        qc.cx(0,1)\n",
    "        qc.barrier()\n",
    "        \n",
    "        pairs.append(qc)\n",
    "    return pairs"
   ]
  },
  {
   "cell_type": "markdown",
   "metadata": {},
   "source": [
    "### Choose Random Bases and Measure Qubits in Chosen Bases"
   ]
  },
  {
   "cell_type": "code",
   "execution_count": 236,
   "metadata": {},
   "outputs": [],
   "source": [
    "def measure(pairs):\n",
    "    \n",
    "    # set up measurement simulation\n",
    "    backend = Aer.get_backend('qasm_simulator')\n",
    "    \n",
    "    measurements = []\n",
    "    alice_bases = []\n",
    "    bob_bases = []\n",
    "    \n",
    "    # for each EPR pair\n",
    "    for q in range(len(pairs)):\n",
    "        \n",
    "        # pick random basis for Alice's qubit\n",
    "        alice_bases.append(randint(3))\n",
    "        bob_bases.append(randint(3))\n",
    "        \n",
    "        alice_rot = a_b[alice_bases[q]]\n",
    "        bob_rot = b_b[bob_bases[q]]\n",
    "        \n",
    "        # measure qubits in chosen bases by rotating about the y-axis at the opposite of the angle and then measuring\n",
    "        pairs[q].u3(-alice_rot, 0, 0, 0)\n",
    "        pairs[q].u3(-bob_rot, 0, 0, 1)\n",
    "        \n",
    "        pairs[q].measure(0,0)\n",
    "        pairs[q].measure(1,1)\n",
    "        \n",
    "#         display(pairs[q].draw())\n",
    "        \n",
    "        \n",
    "        \n",
    "        \n",
    "        qasm_sim = Aer.get_backend('qasm_simulator')\n",
    "        qobj = assemble(pairs[q], shots=1, memory=True)\n",
    "        result = qasm_sim.run(qobj).result()\n",
    "        measured_bit = str(result.get_memory()[0])\n",
    "        measurements.append(measured_bit)\n",
    "        \n",
    "    return (alice_bases, bob_bases, measurements)"
   ]
  },
  {
   "cell_type": "markdown",
   "metadata": {},
   "source": [
    "### Check Measured Results"
   ]
  },
  {
   "cell_type": "code",
   "execution_count": 237,
   "metadata": {},
   "outputs": [],
   "source": [
    "def check(alice_bases, bob_bases, m):\n",
    "    for idx, (a_basis, b_basis) in enumerate(zip(alice_bases, bob_bases)):\n",
    "        \n",
    "        \n",
    "        \n",
    "        if (a_basis == 1 and b_basis == 0) or (a_basis == 2 and b_basis == 1):\n",
    "            a_m = m[idx][0]\n",
    "            b_m = m[idx][1]\n",
    "            print(\"match! idx {}, Alice measured {} and Bob measured {}\".format(idx, a_m, b_m))\n",
    "            if a_m != b_m:\n",
    "#                 print(\"good match!\")\n",
    "                pass\n",
    "            else:\n",
    "                print(\"bad match. idx {}, a_b {}, a_m {}, b_b {}, b_m {}\".format(idx, a_b, a_m, b_b, b_m))"
   ]
  },
  {
   "cell_type": "markdown",
   "metadata": {},
   "source": [
    "### Count Instances to check for Eve"
   ]
  },
  {
   "cell_type": "code",
   "execution_count": 238,
   "metadata": {},
   "outputs": [],
   "source": [
    "def count(alice_bases, bob_bases, m):\n",
    "    \n",
    "    counter = {}\n",
    "    \n",
    "    for idx, (a_basis, b_basis) in enumerate(zip(alice_bases, bob_bases)):\n",
    "        \n",
    "        if a_basis != 1 and b_basis != 1:\n",
    "            if (a_basis, b_basis) not in counter:\n",
    "                counter[(a_basis, b_basis)] = []\n",
    "            counter[(a_basis, b_basis)].append(m[idx])\n",
    "            \n",
    "    for key in counter:\n",
    "        n = [0, 0, 0, 0]\n",
    "        for string in counter[key]:\n",
    "            if string == \"00\":\n",
    "                n[0] += 1\n",
    "            if string == \"01\":\n",
    "                n[1] += 1\n",
    "            if string == \"10\":\n",
    "                n[2] += 1\n",
    "            if string == \"11\":\n",
    "                n[3] += 3\n",
    "            \n",
    "        e = (n[0] + n[3] - n[2] - n[1]) / (n[0] + n[3] + n[2] + n[1])\n",
    "        counter[key].append(e)\n",
    "        \n",
    "#     print(counter)\n",
    "    \n",
    "    s = counter[(0,0)][-1] - counter[(0,2)][-1] + counter[(2,0)][-1] + counter[(2,2)][-1]\n",
    "    \n",
    "    return s\n",
    "    "
   ]
  },
  {
   "cell_type": "code",
   "execution_count": 239,
   "metadata": {},
   "outputs": [],
   "source": [
    "def run_e91(msg_len):\n",
    "    pairs = prepare_EPR(msg_len)\n",
    "    (a_b, b_b, m) = measure(pairs)\n",
    "    \n",
    "    s = count(a_b, b_b, m)    \n",
    "    \n",
    "    # check(a_b, b_b, m)\n",
    "\n",
    "    # Correlation Coefficient should be approximately -2sqrt(2)\n",
    "    print(\"Correlation Coefficient is {}\".format(s))\n",
    "    return m"
   ]
  },
  {
   "cell_type": "code",
   "execution_count": 240,
   "metadata": {},
   "outputs": [
    {
     "name": "stdout",
     "output_type": "stream",
     "text": [
      "Correlation Coefficient is -2.388888888888889\n",
      "Correlation Coefficient is -1.4545454545454546\n",
      "Correlation Coefficient is -1.504201680672269\n",
      "Correlation Coefficient is -2.3035714285714284\n",
      "Correlation Coefficient is -2.265734265734266\n",
      "Correlation Coefficient is -1.9047619047619047\n",
      "Correlation Coefficient is -1.8571428571428572\n",
      "Correlation Coefficient is -2.235897435897436\n",
      "Correlation Coefficient is -1.867544220485397\n",
      "Correlation Coefficient is -2.736842105263158\n"
     ]
    }
   ],
   "source": [
    "# run 10 times with each run sending 100 EPR pairs\n",
    "for i in range(10):\n",
    "    run_e91(100)"
   ]
  },
  {
   "cell_type": "code",
   "execution_count": null,
   "metadata": {},
   "outputs": [],
   "source": []
  },
  {
   "cell_type": "code",
   "execution_count": null,
   "metadata": {},
   "outputs": [],
   "source": []
  },
  {
   "cell_type": "code",
   "execution_count": 241,
   "metadata": {},
   "outputs": [
    {
     "data": {
      "text/html": [
       "<h3>Version Information</h3><table><tr><th>Qiskit Software</th><th>Version</th></tr><tr><td>Qiskit</td><td>0.19.6</td></tr><tr><td>Terra</td><td>0.14.2</td></tr><tr><td>Aer</td><td>0.5.2</td></tr><tr><td>Ignis</td><td>0.3.3</td></tr><tr><td>Aqua</td><td>0.7.3</td></tr><tr><td>IBM Q Provider</td><td>0.7.2</td></tr><tr><th>System information</th></tr><tr><td>Python</td><td>3.7.6 | packaged by conda-forge | (default, Jun  1 2020, 18:57:50) \n",
       "[GCC 7.5.0]</td></tr><tr><td>OS</td><td>Linux</td></tr><tr><td>CPUs</td><td>4</td></tr><tr><td>Memory (Gb)</td><td>30.96053695678711</td></tr><tr><td colspan='2'>Fri May 07 18:24:01 2021 UTC</td></tr></table>"
      ],
      "text/plain": [
       "<IPython.core.display.HTML object>"
      ]
     },
     "metadata": {},
     "output_type": "display_data"
    }
   ],
   "source": [
    "import qiskit.tools.jupyter\n",
    "%qiskit_version_table"
   ]
  }
 ],
 "metadata": {
  "kernelspec": {
   "display_name": "Python 3",
   "language": "python",
   "name": "python3"
  },
  "language_info": {
   "codemirror_mode": {
    "name": "ipython",
    "version": 3
   },
   "file_extension": ".py",
   "mimetype": "text/x-python",
   "name": "python",
   "nbconvert_exporter": "python",
   "pygments_lexer": "ipython3",
   "version": "3.7.6"
  }
 },
 "nbformat": 4,
 "nbformat_minor": 4
}
